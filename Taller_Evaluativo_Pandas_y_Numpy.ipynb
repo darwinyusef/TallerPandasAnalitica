{
  "nbformat": 4,
  "nbformat_minor": 0,
  "metadata": {
    "colab": {
      "private_outputs": true,
      "provenance": [],
      "authorship_tag": "ABX9TyPZUdWcVnimbQLJGh10YKFU",
      "include_colab_link": true
    },
    "kernelspec": {
      "name": "python3",
      "display_name": "Python 3"
    },
    "language_info": {
      "name": "python"
    }
  },
  "cells": [
    {
      "cell_type": "markdown",
      "metadata": {
        "id": "view-in-github",
        "colab_type": "text"
      },
      "source": [
        "<a href=\"https://colab.research.google.com/github/darwinyusef/TallerPandasAnalitica/blob/master/Taller_Evaluativo_Pandas_y_Numpy.ipynb\" target=\"_parent\"><img src=\"https://colab.research.google.com/assets/colab-badge.svg\" alt=\"Open In Colab\"/></a>"
      ]
    },
    {
      "cell_type": "code",
      "execution_count": null,
      "metadata": {
        "id": "_bu8ixr5tPr2"
      },
      "outputs": [],
      "source": [
        "# Realiza las importaciones"
      ]
    },
    {
      "cell_type": "markdown",
      "source": [
        "Realiza la descripción de lo que vas a realizar con markdown titulado\n"
      ],
      "metadata": {
        "id": "w2FO1cWIhB0w"
      }
    },
    {
      "cell_type": "code",
      "source": [
        "# Inserta el CSV usando read_csv agrega el resultado a una variable llamada contenido_csv y muestralo"
      ],
      "metadata": {
        "id": "EPk56maBgmUf"
      },
      "execution_count": null,
      "outputs": []
    },
    {
      "cell_type": "markdown",
      "source": [
        "Realiza la descripción de lo que vas a realizar con markdown titulado\n"
      ],
      "metadata": {
        "id": "kVz-IB_mhHgv"
      }
    },
    {
      "cell_type": "code",
      "source": [
        "# Realiza una conexión a la tabla creada con Supabase usando requests.get"
      ],
      "metadata": {
        "id": "oltCjNWWgpfg"
      },
      "execution_count": null,
      "outputs": []
    },
    {
      "cell_type": "code",
      "source": [
        "# realiza una conexión a los datos usando json"
      ],
      "metadata": {
        "id": "HLuR2z0Mg4EQ"
      },
      "execution_count": null,
      "outputs": []
    },
    {
      "cell_type": "code",
      "source": [
        "# imrpime contenido_csv"
      ],
      "metadata": {
        "id": "jsthifdNhgUH"
      },
      "execution_count": null,
      "outputs": []
    },
    {
      "cell_type": "code",
      "source": [
        "# exporta la data frame"
      ],
      "metadata": {
        "id": "645swRwohn23"
      },
      "execution_count": null,
      "outputs": []
    },
    {
      "cell_type": "code",
      "source": [
        "# Crear un DataFrame de ejemplo con datos de ventas y categorías y muestra los primeros registros de la tabla"
      ],
      "metadata": {
        "id": "tTWi7Q5KiZmY"
      },
      "execution_count": null,
      "outputs": []
    },
    {
      "cell_type": "code",
      "source": [
        "# Crear un DataFrame de ejemplo con datos de ventas y categorías y muestra los ultimos registros de la tabla"
      ],
      "metadata": {
        "id": "p9F3yck9icxY"
      },
      "execution_count": null,
      "outputs": []
    },
    {
      "cell_type": "code",
      "source": [
        "# muestra las dimenciones del data frame usando shape"
      ],
      "metadata": {
        "id": "REC3i2e7i5DB"
      },
      "execution_count": null,
      "outputs": []
    },
    {
      "cell_type": "code",
      "source": [
        "# has un conteo por vendedores"
      ],
      "metadata": {
        "id": "DTWIL_nyi1RY"
      },
      "execution_count": null,
      "outputs": []
    },
    {
      "cell_type": "code",
      "source": [
        "# Realiza una grafica de barras"
      ],
      "metadata": {
        "id": "inP7NeL0jvso"
      },
      "execution_count": null,
      "outputs": []
    },
    {
      "cell_type": "code",
      "source": [
        "# Realiza una grafica Artículo de conteo de valores lineal usando plot();"
      ],
      "metadata": {
        "id": "0e9VKyfoj7zw"
      },
      "execution_count": null,
      "outputs": []
    },
    {
      "cell_type": "code",
      "source": [
        "# selecciona solo a la vendedora Sara Bond"
      ],
      "metadata": {
        "id": "ZCntOnmlinj4"
      },
      "execution_count": null,
      "outputs": []
    },
    {
      "cell_type": "code",
      "source": [
        "# has un conteo por articulos y luego organizalos decendentemente y elimina los registros vacios"
      ],
      "metadata": {
        "id": "FLBAXcA8jI2f"
      },
      "execution_count": null,
      "outputs": []
    },
    {
      "cell_type": "code",
      "source": [
        "# organizalos por ['Vendedor', 'Ganancia']"
      ],
      "metadata": {
        "id": "iNHtZXwnjOrH"
      },
      "execution_count": null,
      "outputs": []
    },
    {
      "cell_type": "code",
      "source": [
        "# calcula cuantas ventas fueron realizadas para el articulo Gorras en la Región Oeste"
      ],
      "metadata": {
        "id": "0_kXzKV2jdyP"
      },
      "execution_count": null,
      "outputs": []
    },
    {
      "cell_type": "code",
      "source": [
        "# agrega una nueva colomna al Dataframe"
      ],
      "metadata": {
        "id": "ROUzx3Jwjkkn"
      },
      "execution_count": null,
      "outputs": []
    },
    {
      "cell_type": "code",
      "source": [
        "# elimina una nueva columna"
      ],
      "metadata": {
        "id": "o5fb79Ybjtwo"
      },
      "execution_count": null,
      "outputs": []
    },
    {
      "cell_type": "code",
      "source": [
        "# comparte tu analisis al final de este segmento usando EDA"
      ],
      "metadata": {
        "id": "cPPouvKxkPgQ"
      },
      "execution_count": null,
      "outputs": []
    },
    {
      "cell_type": "code",
      "source": [
        "# define una evaluación estadistica descriptiva de todo tu analisis"
      ],
      "metadata": {
        "id": "4UTEdN35kU3A"
      },
      "execution_count": null,
      "outputs": []
    },
    {
      "cell_type": "code",
      "source": [
        "Realiza la descripción de lo que vas a realizar con markdown titulado\n"
      ],
      "metadata": {
        "id": "ER3S5KNJkfMY"
      },
      "execution_count": null,
      "outputs": []
    },
    {
      "cell_type": "code",
      "source": [
        "# comparte tu analisis descriptivo"
      ],
      "metadata": {
        "id": "6MzBP3ZckaiY"
      },
      "execution_count": null,
      "outputs": []
    }
  ]
}