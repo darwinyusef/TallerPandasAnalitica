{
  "nbformat": 4,
  "nbformat_minor": 0,
  "metadata": {
    "colab": {
      "private_outputs": true,
      "provenance": [],
      "authorship_tag": "ABX9TyMcyiBRs0+dln/VTi8kqNEX",
      "include_colab_link": true
    },
    "kernelspec": {
      "name": "python3",
      "display_name": "Python 3"
    },
    "language_info": {
      "name": "python"
    }
  },
  "cells": [
    {
      "cell_type": "markdown",
      "metadata": {
        "id": "view-in-github",
        "colab_type": "text"
      },
      "source": [
        "<a href=\"https://colab.research.google.com/github/darwinyusef/TallerPandasAnalitica/blob/master/python_postgresql_supabase.ipynb\" target=\"_parent\"><img src=\"https://colab.research.google.com/assets/colab-badge.svg\" alt=\"Open In Colab\"/></a>"
      ]
    },
    {
      "cell_type": "code",
      "execution_count": null,
      "metadata": {
        "id": "uuDWW9n9_4Zo"
      },
      "outputs": [],
      "source": [
        "import psycopg2 as psg"
      ]
    },
    {
      "cell_type": "code",
      "source": [
        "import pandas as pd\n",
        "import numpy as np"
      ],
      "metadata": {
        "id": "hq8XvwW_QFEa"
      },
      "execution_count": null,
      "outputs": []
    },
    {
      "cell_type": "code",
      "source": [
        "import json"
      ],
      "metadata": {
        "id": "B7b9ewvsQiyq"
      },
      "execution_count": null,
      "outputs": []
    },
    {
      "cell_type": "code",
      "source": [
        "import matplotlib.pyplot as plt\n",
        "%matplotlib inline"
      ],
      "metadata": {
        "id": "0mvc0NlGQHVb"
      },
      "execution_count": null,
      "outputs": []
    },
    {
      "cell_type": "code",
      "source": [
        "def db():\n",
        "    return psg.connect(database=\"postgres\",host=\"db.eglxewwgvluxmrkgrumu.supabase.co\",port=5432,user=\"postgres\",\n",
        "                        password=\"7mF?hh36yTi5!9K\")"
      ],
      "metadata": {
        "id": "EM44OlN_Kaoh"
      },
      "execution_count": null,
      "outputs": []
    },
    {
      "cell_type": "code",
      "source": [
        "def query_db(query, args=(), one=False):\n",
        "    cur = db().cursor()\n",
        "    cur.execute(query, args)\n",
        "    r = [dict((cur.description[i][0], value) \\\n",
        "               for i, value in enumerate(row)) for row in cur.fetchall()]\n",
        "    cur.connection.close()\n",
        "    return (r[0] if r else None) if one else r"
      ],
      "metadata": {
        "id": "NqB25D4BRKQi"
      },
      "execution_count": null,
      "outputs": []
    },
    {
      "cell_type": "code",
      "source": [
        "db().rollback()"
      ],
      "metadata": {
        "id": "aTMCCH34PCkD"
      },
      "execution_count": null,
      "outputs": []
    },
    {
      "cell_type": "code",
      "source": [
        "my_query = query_db(\"\"\"SELECT * FROM public.user ORDER BY activation DESC\"\"\")\n",
        "print(my_query)"
      ],
      "metadata": {
        "id": "gkzhPHb3MSYS"
      },
      "execution_count": null,
      "outputs": []
    },
    {
      "cell_type": "code",
      "source": [
        "type(my_query)"
      ],
      "metadata": {
        "id": "0M1Xx0-9QYRy"
      },
      "execution_count": null,
      "outputs": []
    },
    {
      "cell_type": "code",
      "source": [
        "users = pd.DataFrame.from_records(my_query)\n",
        "users"
      ],
      "metadata": {
        "id": "42cL7XlNPxxS"
      },
      "execution_count": null,
      "outputs": []
    }
  ]
}